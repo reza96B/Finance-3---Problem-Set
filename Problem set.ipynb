{
 "cells": [
  {
   "cell_type": "code",
   "execution_count": 1,
   "metadata": {},
   "outputs": [
    {
     "name": "stdout",
     "output_type": "stream",
     "text": [
      "Pixiedust database opened successfully\n"
     ]
    },
    {
     "data": {
      "text/html": [
       "\n",
       "        <div style=\"margin:10px\">\n",
       "            <a href=\"https://github.com/ibm-watson-data-lab/pixiedust\" target=\"_new\">\n",
       "                <img src=\"https://github.com/ibm-watson-data-lab/pixiedust/raw/master/docs/_static/pd_icon32.png\" style=\"float:left;margin-right:10px\"/>\n",
       "            </a>\n",
       "            <span>Pixiedust version 1.1.18</span>\n",
       "        </div>\n",
       "        "
      ],
      "text/plain": [
       "<IPython.core.display.HTML object>"
      ]
     },
     "metadata": {},
     "output_type": "display_data"
    },
    {
     "name": "stdout",
     "output_type": "stream",
     "text": [
      "Unable to check latest version <urlopen error [SSL: CERTIFICATE_VERIFY_FAILED] certificate verify failed: unable to get local issuer certificate (_ssl.c:1056)>\n"
     ]
    }
   ],
   "source": [
    "import pandas as pd \n",
    "import numpy as np \n",
    "import numpy.matlib\n",
    "import math \n",
    "import statsmodels.api as sm\n",
    "from statsmodels.sandbox.regression import gmm\n",
    "import scipy.optimize as optimize\n",
    "from statsmodels.sandbox.regression.gmm import GMM\n",
    "from statsmodels.sandbox.regression.gmm import GMMResults\n",
    "import pixiedust\n",
    "# %load_ext line_profiler"
   ]
  },
  {
   "cell_type": "markdown",
   "metadata": {},
   "source": [
    "### Functions"
   ]
  },
  {
   "cell_type": "markdown",
   "metadata": {},
   "source": [
    "Function to compute Newey-West se to test whether returns are statistically different from zero"
   ]
  },
  {
   "cell_type": "code",
   "execution_count": 2,
   "metadata": {},
   "outputs": [],
   "source": [
    "def nwSE(r, lag, h0):\n",
    "    \n",
    "    T = len(r)\n",
    "    vv = r.var()\n",
    "    \n",
    "    for i in range(1, lag):\n",
    "        cc = np.cov(np.vstack((r[:-i], r[i:])))\n",
    "        vv = vv + 2*(1-i/lag)*cc[0,1]\n",
    "        y = math.sqrt(vv)/math.sqrt(T)\n",
    "        \n",
    "    return y "
   ]
  },
  {
   "cell_type": "markdown",
   "metadata": {},
   "source": [
    "Function to estimate factor model with OLS using Newey-West adjusted standard with 12 lags"
   ]
  },
  {
   "cell_type": "code",
   "execution_count": 3,
   "metadata": {},
   "outputs": [],
   "source": [
    "def factorModel(X, y, lag):\n",
    "    \n",
    "    est = sm.OLS(y, X).fit(cov_type='HAC', cov_kwds={'maxlags': lag})\n",
    "    \n",
    "    return est.params, est.bse, est.rsquared_adj"
   ]
  },
  {
   "cell_type": "markdown",
   "metadata": {},
   "source": [
    "Function to check for significance of parameters"
   ]
  },
  {
   "cell_type": "code",
   "execution_count": 4,
   "metadata": {},
   "outputs": [],
   "source": [
    "def sigf(b, se, oneT = False):\n",
    "    \n",
    "    n = b.size\n",
    "    b = b.ravel()\n",
    "    \n",
    "    se = se.ravel()\n",
    "    \n",
    "    # Calculate t-statistics\n",
    "    t = np.array(b/se).ravel()\n",
    "    \n",
    "    # Set critical values \n",
    "    if oneT == True: # One-sided test \n",
    "        crit_val = np.array([1.282, 1.645, 2.326])\n",
    "        \n",
    "    else: # Two-sided test \n",
    "        crit_val = np.array([1.645, 1.96, 2.576])\n",
    "        \n",
    "    # Initialize output vector \n",
    "    y = []\n",
    "    \n",
    "    for i in range(0,n): \n",
    "        if abs(t[i]) >= crit_val[2]: # Significant at the 1% level \n",
    "            y.append('%.2f***' % b[i])\n",
    "            \n",
    "        elif (abs(t[i]) >= crit_val[1]) & (abs(t[i]) < crit_val[2]): # Significant at the 5% level\n",
    "            y.append('%.2f**' % b[i])\n",
    "        \n",
    "        elif (abs(t[i]) >= crit_val[0]) & (abs(t[i]) < crit_val[1]): # Significant at the 10% level,\n",
    "            y.append('%.2f*' % b[i])\n",
    "        else: # Not significant\n",
    "            y.append('%.2f' % b[i])\n",
    "    \n",
    "    return y "
   ]
  },
  {
   "cell_type": "markdown",
   "metadata": {},
   "source": [
    "### Table 1: Lead-Lag Portfolio Sorting (Max Correlation)"
   ]
  },
  {
   "cell_type": "markdown",
   "metadata": {},
   "source": [
    "Load data with Lead-Lag portfolios and 3-factor model returns"
   ]
  },
  {
   "cell_type": "code",
   "execution_count": 5,
   "metadata": {},
   "outputs": [],
   "source": [
    "df = pd.read_excel('Data_master.xlsx', sheet_name= 'T1_ptfs')"
   ]
  },
  {
   "cell_type": "markdown",
   "metadata": {},
   "source": [
    "Compute Table 1"
   ]
  },
  {
   "cell_type": "code",
   "execution_count": 6,
   "metadata": {},
   "outputs": [],
   "source": [
    "# Average excess returns - Inflation corrected\n",
    "avret = 12*100*df[['LeadR', 'MidR', 'LagR', 'LL', 'LLStrong']].mean()\n",
    "\n",
    "# Standard errors (Newey-West correction of 24 lags)\n",
    "avret_se  = 12*df[['LeadR', 'MidR', 'LagR', 'LL', 'LLStrong']].apply(lambda x: nwSE(x.to_numpy()*100,24,0), axis=0)\n",
    "\n",
    "# Estimate CAPM (Newey-West correction of 24 lags)\n",
    "X = sm.add_constant(df[['mktrf']]) # Market returns \n",
    "CAPM = df[['LeadR1', 'MidR1', 'LagR1', 'LL', 'LLStrong']].apply(lambda y: factorModel(X,y*100,24), axis=0)\n",
    "\n",
    "# Annualize alphas and standard errors\n",
    "CAPM_a = 12 * np.array([CAPM[0][0][0], CAPM[1][0][0], CAPM[2][0][0], CAPM[3][0][0], CAPM[4][0][0]])\n",
    "CAPM_se = 12 * np.array([CAPM[0][1][0], CAPM[1][1][0], CAPM[2][1][0], CAPM[3][1][0], CAPM[4][1][0]])\n",
    "\n",
    "# Estimate Fama-French 3-factor model (Newey-West correction of 24 lags)\n",
    "X = sm.add_constant(df[['mktrf', 'smb', 'hml']]) # 3-factor model returns\n",
    "FF3 = df[['LeadR1', 'MidR1', 'LagR1', 'LL', 'LLStrong']].apply(lambda y: factorModel(X,y*100,24), axis=0)\n",
    "\n",
    "# Annualize alphas and standard errors \n",
    "FF3_a = 12* np.array([FF3[0][0][0], FF3[1][0][0], FF3[2][0][0], FF3[3][0][0], FF3[4][0][0]])\n",
    "FF3_se = 12* np.array([FF3[0][1][0], FF3[1][1][0], FF3[2][1][0], FF3[3][1][0], FF3[4][1][0]])"
   ]
  },
  {
   "cell_type": "markdown",
   "metadata": {},
   "source": [
    "Determine statistical significance (using Newey-West standard errors with 12 lags)"
   ]
  },
  {
   "cell_type": "code",
   "execution_count": 7,
   "metadata": {},
   "outputs": [],
   "source": [
    "# Average excess returns\n",
    "avRt = np.array([sigf(avret[0], avret_se[0]), \n",
    "                 sigf(avret[1], avret_se[1]),\n",
    "                 sigf(avret[2], avret_se[2]),\n",
    "                 sigf(avret[3], avret_se[3]),\n",
    "                 sigf(avret[4], avret_se[4])]).reshape(5)\n",
    "\n",
    "# CAPM alphas \n",
    "CAPM_alpha = np.array([sigf(CAPM_a[0], CAPM_se[0]),\n",
    "                       sigf(CAPM_a[1], CAPM_se[1]),\n",
    "                       sigf(CAPM_a[2], CAPM_se[2]), \n",
    "                       sigf(CAPM_a[3], CAPM_se[3]),\n",
    "                       sigf(CAPM_a[4], CAPM_se[4])]).reshape(5)\n",
    "    \n",
    "# Fama-French alphas \n",
    "FF3_alpha = np.array([sigf(FF3_a[0], FF3_se[0]),\n",
    "                      sigf(FF3_a[1], FF3_se[1]),\n",
    "                      sigf(FF3_a[2], FF3_se[2]),\n",
    "                      sigf(FF3_a[3], FF3_se[3]),\n",
    "                      sigf(FF3_a[4], FF3_se[4])]).reshape(5)"
   ]
  },
  {
   "cell_type": "markdown",
   "metadata": {},
   "source": [
    "Format standard errors"
   ]
  },
  {
   "cell_type": "code",
   "execution_count": 8,
   "metadata": {},
   "outputs": [],
   "source": [
    "# Average excess returns\n",
    "avret_stdE = ' '.join('(%0.2f)'%F for F in avret_se ).split(' ')\n",
    "\n",
    "# CAPM alphas\n",
    "CAPM_stdE = ' '.join('(%0.2f)'%F for F in CAPM_se ).split(' ')\n",
    "  \n",
    "# Fama-French alphas \n",
    "FF3_stdE = ' '.join('(%0.2f)'%F for F in FF3_se ).split(' ')"
   ]
  },
  {
   "cell_type": "markdown",
   "metadata": {},
   "source": [
    "Create dataframe with table"
   ]
  },
  {
   "cell_type": "code",
   "execution_count": 9,
   "metadata": {
    "code_folding": [],
    "scrolled": false
   },
   "outputs": [
    {
     "data": {
      "text/html": [
       "<div>\n",
       "<style scoped>\n",
       "    .dataframe tbody tr th:only-of-type {\n",
       "        vertical-align: middle;\n",
       "    }\n",
       "\n",
       "    .dataframe tbody tr th {\n",
       "        vertical-align: top;\n",
       "    }\n",
       "\n",
       "    .dataframe thead th {\n",
       "        text-align: right;\n",
       "    }\n",
       "</style>\n",
       "<table border=\"1\" class=\"dataframe\">\n",
       "  <thead>\n",
       "    <tr style=\"text-align: right;\">\n",
       "      <th></th>\n",
       "      <th>Lead</th>\n",
       "      <th>Mid</th>\n",
       "      <th>Lag</th>\n",
       "      <th>LL</th>\n",
       "      <th>LL Strong</th>\n",
       "    </tr>\n",
       "  </thead>\n",
       "  <tbody>\n",
       "    <tr>\n",
       "      <th>Average return</th>\n",
       "      <td>9.43***</td>\n",
       "      <td>6.03**</td>\n",
       "      <td>5.24*</td>\n",
       "      <td>4.20**</td>\n",
       "      <td>5.24***</td>\n",
       "    </tr>\n",
       "    <tr>\n",
       "      <th></th>\n",
       "      <td>(2.28)</td>\n",
       "      <td>(2.77)</td>\n",
       "      <td>(3.05)</td>\n",
       "      <td>(1.79)</td>\n",
       "      <td>(1.96)</td>\n",
       "    </tr>\n",
       "    <tr>\n",
       "      <th>CAPM a</th>\n",
       "      <td>3.17***</td>\n",
       "      <td>-0.63</td>\n",
       "      <td>-1.79</td>\n",
       "      <td>4.96***</td>\n",
       "      <td>6.12***</td>\n",
       "    </tr>\n",
       "    <tr>\n",
       "      <th></th>\n",
       "      <td>(1.05)</td>\n",
       "      <td>(0.47)</td>\n",
       "      <td>(1.29)</td>\n",
       "      <td>(1.89)</td>\n",
       "      <td>(1.94)</td>\n",
       "    </tr>\n",
       "    <tr>\n",
       "      <th>FF3 a</th>\n",
       "      <td>3.02***</td>\n",
       "      <td>-0.71</td>\n",
       "      <td>-1.66</td>\n",
       "      <td>4.68**</td>\n",
       "      <td>6.23**</td>\n",
       "    </tr>\n",
       "    <tr>\n",
       "      <th></th>\n",
       "      <td>(1.15)</td>\n",
       "      <td>(0.54)</td>\n",
       "      <td>(1.43)</td>\n",
       "      <td>(2.07)</td>\n",
       "      <td>(2.48)</td>\n",
       "    </tr>\n",
       "  </tbody>\n",
       "</table>\n",
       "</div>"
      ],
      "text/plain": [
       "                   Lead     Mid     Lag       LL LL Strong\n",
       "Average return  9.43***  6.03**   5.24*   4.20**   5.24***\n",
       "                 (2.28)  (2.77)  (3.05)   (1.79)    (1.96)\n",
       "CAPM a          3.17***   -0.63   -1.79  4.96***   6.12***\n",
       "                 (1.05)  (0.47)  (1.29)   (1.89)    (1.94)\n",
       "FF3 a           3.02***   -0.71   -1.66   4.68**    6.23**\n",
       "                 (1.15)  (0.54)  (1.43)   (2.07)    (2.48)"
      ]
     },
     "execution_count": 9,
     "metadata": {},
     "output_type": "execute_result"
    }
   ],
   "source": [
    "pd.DataFrame([avRt, avret_stdE, CAPM_alpha, CAPM_stdE, FF3_alpha, FF3_stdE ],\n",
    "             index = ['Average return', '', 'CAPM a', '', 'FF3 a', ''],\n",
    "             columns = ['Lead', 'Mid', 'Lag', 'LL', 'LL Strong'])"
   ]
  },
  {
   "cell_type": "markdown",
   "metadata": {},
   "source": [
    "### Table 3: Lead-Lag Portfolio Sorting - 38 and 49 Industries"
   ]
  },
  {
   "cell_type": "markdown",
   "metadata": {},
   "source": [
    "Load data with Lead-Lag portfolios and 3-factor model returns"
   ]
  },
  {
   "cell_type": "code",
   "execution_count": 10,
   "metadata": {},
   "outputs": [],
   "source": [
    "df = pd.read_excel('Data_master.xlsx', sheet_name= 'T3_ptfs') "
   ]
  },
  {
   "cell_type": "markdown",
   "metadata": {},
   "source": [
    "Compute Table 3"
   ]
  },
  {
   "cell_type": "code",
   "execution_count": 11,
   "metadata": {},
   "outputs": [],
   "source": [
    "# Average returns\n",
    "avret = 12*100*df[['LL38', 'LLStrong38', 'LL49', 'LLStrong49']].mean()\n",
    "\n",
    "# Standard error (Newey-West correction of 12 lags)\n",
    "avret_se  = 12*df[['LL38', 'LLStrong38', 'LL49', 'LLStrong49']].apply(lambda x: nwSE(x.to_numpy()*100,12,0), axis=0)\n",
    "\n",
    "# Estimate CAPM\n",
    "X = sm.add_constant(df[['mktrf']]) # Market returns\n",
    "CAPM = df[['LL38', 'LLStrong38', 'LL49', 'LLStrong49']].apply(lambda y: factorModel(X,y*100,12), axis=0) \n",
    "\n",
    "# Annualize alphas and standard errors \n",
    "CAPM_a = 12 * np.array([CAPM[0][0][0], CAPM[1][0][0], CAPM[2][0][0], CAPM[3][0][0]])\n",
    "CAPM_se = 12 * np.array([CAPM[0][1][0], CAPM[1][1][0], CAPM[2][1][0], CAPM[3][1][0]])\n",
    "\n",
    "# Estimate Fama-French three-factor model \n",
    "X = sm.add_constant(df[['mktrf', 'smb', 'hml']]) # 3-factor model returns\n",
    "FF3 = df[['LL38', 'LLStrong38', 'LL49', 'LLStrong49']].apply(lambda y: factorModel(X,y*100,12), axis=0) \n",
    "\n",
    "# Annualize alphas and standard errors \n",
    "FF3_a = 12* np.array([FF3[0][0][0], FF3[1][0][0], FF3[2][0][0], FF3[3][0][0]])\n",
    "FF3_se = 12* np.array([FF3[0][1][0], FF3[1][1][0], FF3[2][1][0], FF3[3][1][0]])"
   ]
  },
  {
   "cell_type": "markdown",
   "metadata": {},
   "source": [
    "Determine statistical significance (using Newey-West standard errors with 12 lags)"
   ]
  },
  {
   "cell_type": "code",
   "execution_count": 12,
   "metadata": {},
   "outputs": [],
   "source": [
    "# Average excess returns\n",
    "avRt = np.array([sigf(avret[0], avret_se[0]),\n",
    "                 sigf(avret[1], avret_se[1]),\n",
    "                 sigf(avret[2], avret_se[2]), \n",
    "                 sigf(avret[3], avret_se[3])]).reshape(4)\n",
    "\n",
    "# CAPM alphas \n",
    "CAPM_alpha = np.array([sigf(CAPM_a[0], CAPM_se[0]), \n",
    "                       sigf(CAPM_a[1], CAPM_se[1]),\n",
    "                       sigf(CAPM_a[2], CAPM_se[2]), \n",
    "                       sigf(CAPM_a[3], CAPM_se[3])]).reshape(4)\n",
    "\n",
    "# Fama-French alphas\n",
    "FF3_alpha = np.array([sigf(FF3_a[0], FF3_se[0]),\n",
    "                      sigf(FF3_a[1], FF3_se[1]),\n",
    "                      sigf(FF3_a[2], FF3_se[2]), \n",
    "                      sigf(FF3_a[3], FF3_se[3])]).reshape(4)"
   ]
  },
  {
   "cell_type": "markdown",
   "metadata": {},
   "source": [
    "Format standard errors"
   ]
  },
  {
   "cell_type": "code",
   "execution_count": 13,
   "metadata": {},
   "outputs": [],
   "source": [
    "# Average excess returns\n",
    "avret_stdE = ' '.join('(%0.2f)'%F for F in avret_se ).split(' ')\n",
    "\n",
    "# CAPM alphas \n",
    "CAPM_stdE = ' '.join('(%0.2f)'%F for F in CAPM_se ).split(' ')\n",
    "\n",
    "# Fama-French alphas \n",
    "FF3_stdE = ' '.join('(%0.2f)'%F for F in FF3_se ).split(' ')"
   ]
  },
  {
   "cell_type": "markdown",
   "metadata": {},
   "source": [
    "Create dataframe with table"
   ]
  },
  {
   "cell_type": "code",
   "execution_count": 14,
   "metadata": {},
   "outputs": [
    {
     "data": {
      "text/html": [
       "<div>\n",
       "<style scoped>\n",
       "    .dataframe tbody tr th:only-of-type {\n",
       "        vertical-align: middle;\n",
       "    }\n",
       "\n",
       "    .dataframe tbody tr th {\n",
       "        vertical-align: top;\n",
       "    }\n",
       "\n",
       "    .dataframe thead tr th {\n",
       "        text-align: left;\n",
       "    }\n",
       "</style>\n",
       "<table border=\"1\" class=\"dataframe\">\n",
       "  <thead>\n",
       "    <tr>\n",
       "      <th></th>\n",
       "      <th colspan=\"2\" halign=\"left\">Panel A: 38 industries</th>\n",
       "      <th colspan=\"2\" halign=\"left\">Panel B: 49 industries</th>\n",
       "    </tr>\n",
       "    <tr>\n",
       "      <th></th>\n",
       "      <th>LL</th>\n",
       "      <th>LL Strong</th>\n",
       "      <th>LL</th>\n",
       "      <th>LL Strong</th>\n",
       "    </tr>\n",
       "  </thead>\n",
       "  <tbody>\n",
       "    <tr>\n",
       "      <th>Average return</th>\n",
       "      <td>3.16**</td>\n",
       "      <td>6.54**</td>\n",
       "      <td>4.31**</td>\n",
       "      <td>5.06**</td>\n",
       "    </tr>\n",
       "    <tr>\n",
       "      <th></th>\n",
       "      <td>(1.57)</td>\n",
       "      <td>(2.89)</td>\n",
       "      <td>(2.08)</td>\n",
       "      <td>(2.53)</td>\n",
       "    </tr>\n",
       "    <tr>\n",
       "      <th>CAPM a</th>\n",
       "      <td>3.84**</td>\n",
       "      <td>6.94**</td>\n",
       "      <td>5.10**</td>\n",
       "      <td>5.99**</td>\n",
       "    </tr>\n",
       "    <tr>\n",
       "      <th></th>\n",
       "      <td>(1.64)</td>\n",
       "      <td>(2.96)</td>\n",
       "      <td>(2.20)</td>\n",
       "      <td>(2.68)</td>\n",
       "    </tr>\n",
       "    <tr>\n",
       "      <th>FF3 a</th>\n",
       "      <td>3.55*</td>\n",
       "      <td>5.41*</td>\n",
       "      <td>4.61**</td>\n",
       "      <td>5.69**</td>\n",
       "    </tr>\n",
       "    <tr>\n",
       "      <th></th>\n",
       "      <td>(1.99)</td>\n",
       "      <td>(3.15)</td>\n",
       "      <td>(2.24)</td>\n",
       "      <td>(2.61)</td>\n",
       "    </tr>\n",
       "  </tbody>\n",
       "</table>\n",
       "</div>"
      ],
      "text/plain": [
       "               Panel A: 38 industries           Panel B: 49 industries  \\\n",
       "                                   LL LL Strong                     LL   \n",
       "Average return                 3.16**    6.54**                 4.31**   \n",
       "                               (1.57)    (2.89)                 (2.08)   \n",
       "CAPM a                         3.84**    6.94**                 5.10**   \n",
       "                               (1.64)    (2.96)                 (2.20)   \n",
       "FF3 a                           3.55*     5.41*                 4.61**   \n",
       "                               (1.99)    (3.15)                 (2.24)   \n",
       "\n",
       "                          \n",
       "               LL Strong  \n",
       "Average return    5.06**  \n",
       "                  (2.53)  \n",
       "CAPM a            5.99**  \n",
       "                  (2.68)  \n",
       "FF3 a             5.69**  \n",
       "                  (2.61)  "
      ]
     },
     "execution_count": 14,
     "metadata": {},
     "output_type": "execute_result"
    }
   ],
   "source": [
    "Panels =  ['Panel A: 38 industries', 'Panel B: 49 industries']\n",
    "portfolios = ['LL', 'LL Strong']\n",
    "\n",
    "col = pd.MultiIndex.from_product([Panels, portfolios])\n",
    "\n",
    "pd.DataFrame([avRt, avret_stdE, CAPM_alpha, CAPM_stdE, FF3_alpha, FF3_stdE ],\n",
    "             index = ['Average return', '', 'CAPM a', '', 'FF3 a', ''],\n",
    "             columns = col)"
   ]
  },
  {
   "cell_type": "markdown",
   "metadata": {},
   "source": [
    "### Table 7: The Disconnect between LL and Other Factors (II)"
   ]
  },
  {
   "cell_type": "markdown",
   "metadata": {},
   "source": [
    "Load data with factor model returns "
   ]
  },
  {
   "cell_type": "code",
   "execution_count": 15,
   "metadata": {},
   "outputs": [],
   "source": [
    "df = pd.read_excel('Data_master.xlsx', sheet_name= 'T7_factors')"
   ]
  },
  {
   "cell_type": "markdown",
   "metadata": {},
   "source": [
    "Fama-French 5-factor"
   ]
  },
  {
   "cell_type": "code",
   "execution_count": 16,
   "metadata": {},
   "outputs": [],
   "source": [
    "# Estimate factor model,\n",
    "X = sm.add_constant(df[['mktrf', 'smb', 'hml', 'rmw', 'cma']]) # Five-factor model returns \n",
    "FF5 = factorModel(X,df.LLStrong30,12) \n",
    "FF5_b =  np.array([12*100*FF5[0][0], FF5[0][1], FF5[0][2], FF5[0][3], FF5[0][4], FF5[0][5]])\n",
    "FF5_se =  np.array([12*100*FF5[1][0], FF5[1][1], FF5[1][2], FF5[1][3], FF5[1][4], FF5[1][5]])\n",
    "FF5_R2 = FF5[2].round(2)\n",
    "\n",
    "# Check for significance \n",
    "FF5_betas = np.array([sigf(FF5_b[0], FF5_se[0],  True),\n",
    "                      sigf(FF5_b[1], FF5_se[1]),\n",
    "                      sigf(FF5_b[2], FF5_se[2]),\n",
    "                      sigf(FF5_b[3], FF5_se[3]),\n",
    "                      sigf(FF5_b[4], FF5_se[4]),\n",
    "                      sigf(FF5_b[5], FF5_se[5])]).reshape(6)\n",
    "\n",
    "# Format standard errors\n",
    "FF5_stdE = ' '.join('(%0.2f)'%F for F in FF5_se ).split(' ')"
   ]
  },
  {
   "cell_type": "markdown",
   "metadata": {},
   "source": [
    "Hou-et all Q-factor model"
   ]
  },
  {
   "cell_type": "code",
   "execution_count": 17,
   "metadata": {},
   "outputs": [],
   "source": [
    "# Estimate factor model \n",
    "X = sm.add_constant(df[['q_mkt', 'q_me', 'q_ia', 'q_roe']]) # Q-factor model returns \n",
    "HXZ = factorModel(X,df.LLStrong30,12) \n",
    "HXZ_b =  np.array([12* 100* HXZ[0][0], HXZ[0][1], HXZ[0][2], HXZ[0][3], HXZ[0][4]])\n",
    "HXZ_se =  np.array([12* 100* HXZ[1][0], HXZ[1][1], HXZ[1][2], HXZ[1][3], HXZ[1][4]])\n",
    "HXZ_R2 = HXZ[2].round(2)\n",
    "\n",
    "# Check for significance \n",
    "HXZ_betas = np.array([sigf(HXZ_b[0], HXZ_se[0],  True), \n",
    "                      sigf(HXZ_b[1], HXZ_se[1]),\n",
    "                      sigf(HXZ_b[2], HXZ_se[2]), \n",
    "                      sigf(HXZ_b[3], HXZ_se[3]), \n",
    "                      sigf(HXZ_b[4], HXZ_se[4])]).reshape(5)\n",
    "\n",
    "# Format standard errors\n",
    "HXZ_stdE = ' '.join('(%0.2f)'%F for F in HXZ_se ).split(' ')"
   ]
  },
  {
   "cell_type": "markdown",
   "metadata": {},
   "source": [
    "Carhart 4-factor model (only momentum factor)"
   ]
  },
  {
   "cell_type": "code",
   "execution_count": 18,
   "metadata": {},
   "outputs": [],
   "source": [
    "# Estimate factor model \n",
    "X = sm.add_constant(df[['mom']]) # Q-factor model returns \n",
    "F4_1 = factorModel(X,df.LLStrong30,12) \n",
    "F4_1_b =  np.array([12* 100* F4_1[0][0], F4_1[0][1]])\n",
    "F4_1_se =  np.array([12* 100* F4_1[1][0], F4_1[1][1]])\n",
    "F4_1_R2 = F4_1[2].round(2)\n",
    "\n",
    "# Check for significance \n",
    "F4_1_betas = np.array([sigf(F4_1_b[0], F4_1_se[0],  True), sigf(F4_1_b[1], F4_1_se[1])]).reshape(2)\n",
    "\n",
    "# Format standard errors\n",
    "F4_1_stdE = ' '.join('(%0.2f)'%F for F in F4_1_se ).split(' ')"
   ]
  },
  {
   "cell_type": "markdown",
   "metadata": {},
   "source": [
    "Carhart 4-factor model (only market + momentum factor)"
   ]
  },
  {
   "cell_type": "code",
   "execution_count": 19,
   "metadata": {},
   "outputs": [],
   "source": [
    "# Estimate factor model \n",
    "X = sm.add_constant(df[['mktrf.1','mom']]) # Q-factor model returns \n",
    "F4_2 = factorModel(X,df.LLStrong30,12) \n",
    "F4_2_b =  np.array([12* 100* F4_2[0][0], F4_2[0][1], F4_2[0][2]])\n",
    "F4_2_se =  np.array([12* 100* F4_2[1][0], F4_2[1][1], F4_2[1][2]])\n",
    "F4_2_R2 = F4_2[2].round(2)\n",
    "\n",
    "# Check for significance \n",
    "F4_2_betas = np.array([sigf(F4_2_b[0], F4_2_se[0], True),\n",
    "                       sigf(F4_2_b[1], F4_2_se[1]),\n",
    "                          sigf(F4_2_b[2], F4_2_se[2])]).reshape(3)\n",
    "    \n",
    "# Format standard errors\n",
    "F4_2_stdE = ' '.join('(%0.2f)'%F for F in F4_2_se ).split(' ')"
   ]
  },
  {
   "cell_type": "markdown",
   "metadata": {},
   "source": [
    "Carhart 4-factor model (all factors)"
   ]
  },
  {
   "cell_type": "code",
   "execution_count": 20,
   "metadata": {},
   "outputs": [],
   "source": [
    "# Estimate factor model\n",
    "X = sm.add_constant(df[['mktrf.1', 'mom', 'smb.1', 'hml.1']]) # Carhart factors \n",
    "F4 = factorModel(X,df.LLStrong30,12) \n",
    "F4_b =  np.array([12* 100* F4[0][0], F4[0][1], F4[0][2], F4[0][3], F4[0][4]])\n",
    "F4_se =  np.array([12* 100* F4[1][0], F4[1][1], F4[1][2], F4[1][3], F4[1][4]])\n",
    "F4_R2 = F4[2].round(2)\n",
    "\n",
    "# Check for significance \n",
    "F4_betas = np.array([sigf(F4_b[0], F4_se[0],  True),\n",
    "                     sigf(F4_b[1], F4_se[1]),\n",
    "                     sigf(F4_b[2], F4_se[2]),\n",
    "                     sigf(F4_b[3], F4_se[3]),\n",
    "                     sigf(F4_b[4], F4_se[4])]).reshape(5)\n",
    "\n",
    "# Format standard errors\n",
    "F4_stdE = ' '.join('(%0.2f)'%F for F in F4_se ).split(' ')"
   ]
  },
  {
   "cell_type": "markdown",
   "metadata": {},
   "source": [
    "Create dataframe with table"
   ]
  },
  {
   "cell_type": "code",
   "execution_count": 21,
   "metadata": {
    "scrolled": false
   },
   "outputs": [
    {
     "data": {
      "text/html": [
       "<div>\n",
       "<style scoped>\n",
       "    .dataframe tbody tr th:only-of-type {\n",
       "        vertical-align: middle;\n",
       "    }\n",
       "\n",
       "    .dataframe tbody tr th {\n",
       "        vertical-align: top;\n",
       "    }\n",
       "\n",
       "    .dataframe thead th {\n",
       "        text-align: right;\n",
       "    }\n",
       "</style>\n",
       "<table border=\"1\" class=\"dataframe\">\n",
       "  <thead>\n",
       "    <tr style=\"text-align: right;\">\n",
       "      <th></th>\n",
       "      <th></th>\n",
       "      <th></th>\n",
       "      <th></th>\n",
       "      <th></th>\n",
       "      <th></th>\n",
       "      <th></th>\n",
       "      <th></th>\n",
       "      <th></th>\n",
       "      <th></th>\n",
       "      <th></th>\n",
       "    </tr>\n",
       "  </thead>\n",
       "  <tbody>\n",
       "    <tr>\n",
       "      <th></th>\n",
       "      <td>a</td>\n",
       "      <td>4.00**</td>\n",
       "      <td></td>\n",
       "      <td>a</td>\n",
       "      <td>3.96**</td>\n",
       "      <td></td>\n",
       "      <td>a</td>\n",
       "      <td>4.20**</td>\n",
       "      <td>5.17***</td>\n",
       "      <td>4.98**</td>\n",
       "    </tr>\n",
       "    <tr>\n",
       "      <th></th>\n",
       "      <td></td>\n",
       "      <td>(2.23)</td>\n",
       "      <td></td>\n",
       "      <td></td>\n",
       "      <td>(2.40)</td>\n",
       "      <td></td>\n",
       "      <td></td>\n",
       "      <td>(2.07)</td>\n",
       "      <td>(2.06)</td>\n",
       "      <td>(2.33)</td>\n",
       "    </tr>\n",
       "    <tr>\n",
       "      <th></th>\n",
       "      <td>MKT</td>\n",
       "      <td>-0.08</td>\n",
       "      <td></td>\n",
       "      <td>MKT</td>\n",
       "      <td>-0.11*</td>\n",
       "      <td></td>\n",
       "      <td>MKT</td>\n",
       "      <td></td>\n",
       "      <td>-0.14**</td>\n",
       "      <td>-0.10</td>\n",
       "    </tr>\n",
       "    <tr>\n",
       "      <th></th>\n",
       "      <td></td>\n",
       "      <td>(0.07)</td>\n",
       "      <td></td>\n",
       "      <td></td>\n",
       "      <td>(0.06)</td>\n",
       "      <td></td>\n",
       "      <td></td>\n",
       "      <td></td>\n",
       "      <td>(0.07)</td>\n",
       "      <td>(0.08)</td>\n",
       "    </tr>\n",
       "    <tr>\n",
       "      <th></th>\n",
       "      <td>SMB</td>\n",
       "      <td>-0.06</td>\n",
       "      <td></td>\n",
       "      <td>ME</td>\n",
       "      <td>-0.04</td>\n",
       "      <td></td>\n",
       "      <td>MOM</td>\n",
       "      <td>0.12</td>\n",
       "      <td>0.10</td>\n",
       "      <td>0.11</td>\n",
       "    </tr>\n",
       "    <tr>\n",
       "      <th></th>\n",
       "      <td></td>\n",
       "      <td>(0.10)</td>\n",
       "      <td></td>\n",
       "      <td></td>\n",
       "      <td>(0.07)</td>\n",
       "      <td></td>\n",
       "      <td></td>\n",
       "      <td>(0.09)</td>\n",
       "      <td>(0.08)</td>\n",
       "      <td>(0.08)</td>\n",
       "    </tr>\n",
       "    <tr>\n",
       "      <th></th>\n",
       "      <td>HML</td>\n",
       "      <td>-0.10</td>\n",
       "      <td></td>\n",
       "      <td>I/A</td>\n",
       "      <td>0.03</td>\n",
       "      <td></td>\n",
       "      <td>SMB</td>\n",
       "      <td></td>\n",
       "      <td></td>\n",
       "      <td>-0.14*</td>\n",
       "    </tr>\n",
       "    <tr>\n",
       "      <th></th>\n",
       "      <td></td>\n",
       "      <td>(0.18)</td>\n",
       "      <td></td>\n",
       "      <td></td>\n",
       "      <td>(0.19)</td>\n",
       "      <td></td>\n",
       "      <td></td>\n",
       "      <td></td>\n",
       "      <td></td>\n",
       "      <td>(0.08)</td>\n",
       "    </tr>\n",
       "    <tr>\n",
       "      <th></th>\n",
       "      <td>RMW</td>\n",
       "      <td>0.32***</td>\n",
       "      <td></td>\n",
       "      <td>ROE</td>\n",
       "      <td>0.28**</td>\n",
       "      <td></td>\n",
       "      <td>HML</td>\n",
       "      <td></td>\n",
       "      <td></td>\n",
       "      <td>0.05</td>\n",
       "    </tr>\n",
       "    <tr>\n",
       "      <th></th>\n",
       "      <td></td>\n",
       "      <td>(0.10)</td>\n",
       "      <td></td>\n",
       "      <td></td>\n",
       "      <td>(0.13)</td>\n",
       "      <td></td>\n",
       "      <td></td>\n",
       "      <td></td>\n",
       "      <td></td>\n",
       "      <td>(0.14)</td>\n",
       "    </tr>\n",
       "    <tr>\n",
       "      <th></th>\n",
       "      <td>CMA</td>\n",
       "      <td>0.27</td>\n",
       "      <td></td>\n",
       "      <td></td>\n",
       "      <td></td>\n",
       "      <td></td>\n",
       "      <td></td>\n",
       "      <td></td>\n",
       "      <td></td>\n",
       "      <td></td>\n",
       "    </tr>\n",
       "    <tr>\n",
       "      <th></th>\n",
       "      <td></td>\n",
       "      <td>(0.22)</td>\n",
       "      <td></td>\n",
       "      <td></td>\n",
       "      <td></td>\n",
       "      <td></td>\n",
       "      <td></td>\n",
       "      <td></td>\n",
       "      <td></td>\n",
       "      <td></td>\n",
       "    </tr>\n",
       "    <tr>\n",
       "      <th></th>\n",
       "      <td>Adjusted R2</td>\n",
       "      <td>0.06</td>\n",
       "      <td></td>\n",
       "      <td></td>\n",
       "      <td>0.06</td>\n",
       "      <td></td>\n",
       "      <td></td>\n",
       "      <td>0.02</td>\n",
       "      <td>0.04</td>\n",
       "      <td>0.05</td>\n",
       "    </tr>\n",
       "  </tbody>\n",
       "</table>\n",
       "</div>"
      ],
      "text/plain": [
       "                                                                     \n",
       "            a   4.00**      a  3.96**      a  4.20**  5.17***  4.98**\n",
       "                (2.23)         (2.40)         (2.07)   (2.06)  (2.33)\n",
       "          MKT    -0.08    MKT  -0.11*    MKT          -0.14**   -0.10\n",
       "                (0.07)         (0.06)                  (0.07)  (0.08)\n",
       "          SMB    -0.06     ME   -0.04    MOM    0.12     0.10    0.11\n",
       "                (0.10)         (0.07)         (0.09)   (0.08)  (0.08)\n",
       "          HML    -0.10    I/A    0.03    SMB                   -0.14*\n",
       "                (0.18)         (0.19)                          (0.08)\n",
       "          RMW  0.32***    ROE  0.28**    HML                     0.05\n",
       "                (0.10)         (0.13)                          (0.14)\n",
       "          CMA     0.27                                               \n",
       "                (0.22)                                               \n",
       "  Adjusted R2     0.06           0.06           0.02     0.04    0.05"
      ]
     },
     "execution_count": 21,
     "metadata": {},
     "output_type": "execute_result"
    }
   ],
   "source": [
    "Panels =  ['Panel A: 38 industries', 'Panel B: 49 industries']\n",
    "portfolios = ['LL', 'LL Strong']\n",
    "col = pd.MultiIndex.from_product([Panels, portfolios])\n",
    "\n",
    "row1 = ['a',FF5_betas[0], '', 'a', HXZ_betas[0],'', 'a', F4_1_betas[0], F4_2_betas[0], F4_betas[0]]\n",
    "row2 = ['', FF5_stdE[0], '', '', HXZ_stdE[0], '', '', F4_1_stdE[0],  F4_2_stdE[0],  F4_stdE[0]]\n",
    "row3 = ['MKT', FF5_betas[1], '', 'MKT', HXZ_betas[1],'', 'MKT', '', F4_2_betas[1], F4_betas[1]]\n",
    "row4 = ['', FF5_stdE[1], '', '', HXZ_stdE[1],'', '', '', F4_2_stdE[1], F4_stdE[1]]\n",
    "row5 = ['SMB', FF5_betas[2], '', 'ME', HXZ_betas[2],'', 'MOM', F4_1_betas[1] , F4_2_betas[2], F4_betas[2]]\n",
    "row6 = ['', FF5_stdE[2], '', '', HXZ_stdE[2],'', '', F4_1_stdE[1], F4_2_stdE[2], F4_stdE[2]]\n",
    "row7 = ['HML', FF5_betas[3], '', 'I/A', HXZ_betas[3],'', 'SMB', '' , '', F4_betas[3]]\n",
    "row8 = ['', FF5_stdE[3], '', '', HXZ_stdE[3],'', '', '', '', F4_stdE[3]]\n",
    "row9 = ['RMW', FF5_betas[4], '', 'ROE', HXZ_betas[4],'', 'HML', '' , '', F4_betas[4]]\n",
    "row10 = ['', FF5_stdE[4], '', '', HXZ_stdE[4],'', '', '', '', F4_stdE[4]]\n",
    "row11 = ['CMA', FF5_betas[5], '', '', '','', '', '', '' , '']\n",
    "row12 = ['', FF5_stdE[5], '', '', '' ,'', '', '', '', '']\n",
    "row13 = ['Adjusted R2', FF5_R2, '', '', HXZ_R2, '', '', F4_1_R2,  F4_2_R2,  F4_R2]\n",
    "\n",
    "pd.DataFrame([row1, row2, row3, row4, row5, row6, row7, row8, row9, row10, row11, row12, row13],\n",
    "             index = ['','','','','','','','','','','','', ''], columns = ['','','','','','','','','',''])"
   ]
  },
  {
   "cell_type": "markdown",
   "metadata": {},
   "source": [
    "### Table 9 "
   ]
  },
  {
   "cell_type": "markdown",
   "metadata": {},
   "source": [
    "Load data with test assets and factors "
   ]
  },
  {
   "cell_type": "code",
   "execution_count": 22,
   "metadata": {
    "scrolled": true
   },
   "outputs": [
    {
     "name": "stderr",
     "output_type": "stream",
     "text": [
      "/Users/Reza/Desktop/Python/Finance3/venv/lib/python3.7/site-packages/ipykernel_launcher.py:7: SettingWithCopyWarning: \n",
      "A value is trying to be set on a copy of a slice from a DataFrame.\n",
      "Try using .loc[row_indexer,col_indexer] = value instead\n",
      "\n",
      "See the caveats in the documentation: https://pandas.pydata.org/pandas-docs/stable/user_guide/indexing.html#returning-a-view-versus-a-copy\n",
      "  import sys\n"
     ]
    }
   ],
   "source": [
    "# Riskfree rate \n",
    "df = pd.read_excel('Data_master.xlsx', sheet_name= 'T1_ptfs')\n",
    "rf = df['rf']\n",
    "\n",
    "# Factors \n",
    "F = df[['mktrf', 'smb', 'hml', 'LL']] # Market, Size, Value, LL \n",
    "F['LL'] = F['LL'] * 100 \n",
    "F = F.to_numpy()\n",
    "T = len(F)\n",
    "\n",
    "# 30 industries \n",
    "ind30 = pd.read_csv('30_industry_pfs.csv', sep = ';', header = None)  \n",
    "ind30 = ind30[(ind30[0] >= 197201) & (ind30[0] <= 201212)].to_numpy() # Select sample \n",
    "ind30 = np.hstack((ind30[:,1:31] - np.matlib.repmat(rf.to_numpy(), 30, 1).T, F[:,3].reshape(T,1))) # Add LL factor \n",
    "ind30 = ind30[:,~np.any(np.isnan(ind30), axis=0)] # Delete columns with NaN values \n",
    "\n",
    "# 38 industries \n",
    "ind38 = pd.read_csv('38_industry_pfs.csv', sep = ';', header = None) \n",
    "ind38 = ind38[(ind38[0] >= 197201) & (ind38[0] <= 201212)].to_numpy()\n",
    "ind38 = np.hstack((ind38[:,1:39] - np.matlib.repmat(rf.to_numpy(), 38, 1).T, F[:,3].reshape(T,1)))\n",
    "ind38 = ind38[:,~np.any(np.isnan(ind38), axis=0)]\n",
    "\n",
    "# 49 industries \n",
    "ind49 = pd.read_csv('49_industry_pfs.csv', sep = ';', header = None) \n",
    "ind49 = ind49[(ind49[0] >= 197201) & (ind49[0] <= 201212)].to_numpy()\n",
    "ind49 = np.hstack((ind49[:,1:50] - np.matlib.repmat(rf.to_numpy(), 49, 1).T, F[:,3].reshape(T,1)))\n",
    "ind49 = ind49[:,~np.any(np.isnan(ind49), axis=0)]\n",
    "\n",
    "# 25 BE/ME and Size \n",
    "BM_ME_25 = pd.read_csv('25_book_size_all.csv', sep = ';', header = None) \n",
    "BM_ME_25 = BM_ME_25[(BM_ME_25[0] >= 197201) & (BM_ME_25[0] <= 201212)].to_numpy()\n",
    "BM_ME_25 = np.hstack((BM_ME_25[:,1:26] - np.matlib.repmat(rf.to_numpy(), 25, 1).T, F[:,3].reshape(T,1)))\n",
    "BM_ME_25 = BM_ME_25[:,~np.any(np.isnan(BM_ME_25), axis=0)]"
   ]
  },
  {
   "cell_type": "markdown",
   "metadata": {},
   "source": [
    "Specify moment function (SDF representation) "
   ]
  },
  {
   "cell_type": "code",
   "execution_count": 23,
   "metadata": {
    "code_folding": []
   },
   "outputs": [],
   "source": [
    "class gmm_sdf(GMM):\n",
    "    def momcond(self, params):\n",
    "        \n",
    "        # Initialization\n",
    "        bMKT, bSMB, bHML, bLL = params\n",
    "        y = self.endog\n",
    "        x = self.exog\n",
    "        inst = self.instrument   \n",
    "        \n",
    "        # Time series length \n",
    "        T = len(y)\n",
    "        \n",
    "        # Number of test assets\n",
    "        N = np.size(y,1)\n",
    "        \n",
    "        # (1-bF)\n",
    "        e = np.ones((T,)) - np.matmul(x,np.array([bMKT, bSMB, bHML, bLL]))\n",
    "        \n",
    "        # Moment conditions \n",
    "        g = np.multiply(y, np.matlib.repmat(e, N, 1).T)\n",
    "       \n",
    "        return g"
   ]
  },
  {
   "cell_type": "markdown",
   "metadata": {},
   "source": [
    "Function which calculated covariance matrix of estimates"
   ]
  },
  {
   "cell_type": "code",
   "execution_count": 24,
   "metadata": {},
   "outputs": [],
   "source": [
    "def sandwich(moms,gmoms, nobs, nmoms):\n",
    "    S = np.zeros((nmoms,nmoms))\n",
    "\n",
    "    for t in range(0,nobs):\n",
    "        S = S + np.matmul(moms[t,:].reshape((nmoms,1)), moms[t,:].reshape((1,nmoms)))\n",
    "\n",
    "    S = S/nobs\n",
    "\n",
    "    gginv = np.linalg.inv(np.matmul(gmoms.T,gmoms))\n",
    "    gSs = np.matmul(np.matmul(gmoms.T, S), gmoms)\n",
    "\n",
    "    Vb = np.matmul(np.matmul(gginv, gSs), gginv)/nobs\n",
    "    \n",
    "    return Vb"
   ]
  },
  {
   "cell_type": "markdown",
   "metadata": {},
   "source": [
    "Define function which calls estimation function from GMM package (1-step estimation  with W = Identity matrix)"
   ]
  },
  {
   "cell_type": "code",
   "execution_count": 25,
   "metadata": {
    "scrolled": false
   },
   "outputs": [],
   "source": [
    "def gmm_est(R,F,b0):\n",
    "    \n",
    "    ''' \n",
    "    R = TxN matrix with test assets\n",
    "    F = TxK matrix with factor returns \n",
    "    b0 = Kx1 vector with initial guess for paramers\n",
    "    '''\n",
    "    \n",
    "    # Number of test assets \n",
    "    N = np.size(R,1)\n",
    "\n",
    "    # Weighting matrix \n",
    "    W = np.eye(N)\n",
    "    \n",
    "    # Number of observations in time series  \n",
    "    T = np.size(R,0)\n",
    "\n",
    "    # Number of factors \n",
    "    K = np.size(F,1)\n",
    "\n",
    "    # Instruments - Set to identity matrix \n",
    "    z = np.ones((T, K))\n",
    "\n",
    "    # Estimate GMM \n",
    "    model = gmm_sdf(R, F, z)\n",
    "    res = model.fit(b0, maxiter=1, inv_weights = W, \n",
    "                     optim_method='nm', wargs=dict(centered=False, maxlag = 12), weights_method ='hac')\n",
    "\n",
    "    # Store GMM parameters and Newey-West standard errors and covariance matrix of b \n",
    "    b = res.params\n",
    "    se_b = res.bse\n",
    "\n",
    "    # Covariance matrix of b \n",
    "    moms = model.momcond(b)\n",
    "    gmoms = model.gradient_momcond(b)\n",
    "    Vb = sandwich(moms, gmoms, T, N)\n",
    "    \n",
    "    # There is a mistake in the function for covariance matrix from package (no S in formula Vb) \n",
    "    # Vb = res.calc_cov_params(moms, -gradmoms, weights=None, use_weights= True, has_optimal_weights= False,\n",
    "    #                         weights_method='hac', wargs= dict(centered=False, maxlag = 12))\n",
    "    \n",
    "    \n",
    "    # Compute lambdas estimates and Newey-West standard errors\n",
    "    \n",
    "    FF = np.zeros((K,K)) # Covariance matrix F\n",
    "    \n",
    "    for t in range(0,T):\n",
    "        FF = FF + np.matmul(F[t,:].reshape((K,1)), F[t,:].reshape((1,K)))\n",
    "\n",
    "    FF = FF/T\n",
    "\n",
    "    # lambda: FF*b\n",
    "    l = np.matmul(FF,b)\n",
    "\n",
    "    # Covariance matrix lambda\n",
    "    Vl = np.matmul(np.matmul(FF,Vb),FF)\n",
    "\n",
    "    # Se of lambda\n",
    "    se_l =  np.sqrt(np.diagonal(Vl))\n",
    "    \n",
    "    return b,se_b, l, se_l"
   ]
  },
  {
   "cell_type": "markdown",
   "metadata": {},
   "source": [
    "Estimate GMM for all test assets"
   ]
  },
  {
   "cell_type": "code",
   "execution_count": 26,
   "metadata": {
    "scrolled": false
   },
   "outputs": [
    {
     "name": "stdout",
     "output_type": "stream",
     "text": [
      "Optimization terminated successfully.\n",
      "         Current function value: 0.521483\n",
      "         Iterations: 197\n",
      "         Function evaluations: 335\n",
      "Optimization terminated successfully.\n",
      "         Current function value: 0.817252\n",
      "         Iterations: 235\n",
      "         Function evaluations: 403\n",
      "Optimization terminated successfully.\n",
      "         Current function value: 1.198514\n",
      "         Iterations: 186\n",
      "         Function evaluations: 312\n",
      "Optimization terminated successfully.\n",
      "         Current function value: 0.451137\n",
      "         Iterations: 238\n",
      "         Function evaluations: 406\n"
     ]
    }
   ],
   "source": [
    "# 30 industries \n",
    "b_ind30, se_b_ind30, l_ind30, se_l_ind30  = gmm_est(ind30,F,np.array([0,0,0,0]))\n",
    "\n",
    "# Determine significance of coefficients \n",
    "coef_ind30 = np.hstack([sigf(l_ind30, se_l_ind30), sigf(b_ind30, se_b_ind30)])\n",
    "\n",
    "# Format standard errors \n",
    "se_ind30 = ' '.join('(%0.2f)'%F for F in np.hstack([se_l_ind30, se_b_ind30])).split(' ')\n",
    "\n",
    "# 38 industries \n",
    "b_ind38, se_b_ind38, l_ind38, se_l_ind38  = gmm_est(ind38,F,np.array([0,0,0,0]))\n",
    "\n",
    "# Determine significance of coefficients \n",
    "coef_ind38 = np.hstack([sigf(l_ind38, se_l_ind38), sigf(b_ind38, se_b_ind38)])\n",
    "\n",
    "# Format standard errors \n",
    "se_ind38 = ' '.join('(%0.2f)'%F for F in np.hstack([se_l_ind38, se_b_ind38])).split(' ')\n",
    "\n",
    "# 49 industries \n",
    "b_ind49, se_b_ind49, l_ind49, se_l_ind49  = gmm_est(ind49,F,np.array([0,0,0,0]))\n",
    "\n",
    "# Determine significance of coefficients \n",
    "coef_ind49 = np.hstack([sigf(l_ind49, se_l_ind49), sigf(b_ind49, se_b_ind49)])\n",
    "\n",
    "# Format standard errors \n",
    "se_ind49 = ' '.join('(%0.2f)'%F for F in np.hstack([se_l_ind49, se_b_ind49])).split(' ')\n",
    "\n",
    "# 25 BE/ME and Size \n",
    "b_BM_ME_25, se_b_BM_ME_25, l_BM_ME_25, se_l_BM_ME_25  = gmm_est(BM_ME_25,F,np.array([0,0,0,0]))\n",
    "\n",
    "# Determine significance of coefficients \n",
    "coef_BM_ME_25 = np.hstack([sigf(l_BM_ME_25, se_l_BM_ME_25), sigf(b_BM_ME_25, se_b_BM_ME_25)])\n",
    "\n",
    "# Format standard errors \n",
    "se_BM_ME_25 = ' '.join('(%0.2f)'%F for F in np.hstack([se_l_BM_ME_25, se_b_BM_ME_25])).split(' ')"
   ]
  },
  {
   "cell_type": "markdown",
   "metadata": {},
   "source": [
    "Create dataframe with table"
   ]
  },
  {
   "cell_type": "code",
   "execution_count": 27,
   "metadata": {},
   "outputs": [
    {
     "data": {
      "text/html": [
       "<div>\n",
       "<style scoped>\n",
       "    .dataframe tbody tr th:only-of-type {\n",
       "        vertical-align: middle;\n",
       "    }\n",
       "\n",
       "    .dataframe tbody tr th {\n",
       "        vertical-align: top;\n",
       "    }\n",
       "\n",
       "    .dataframe thead th {\n",
       "        text-align: right;\n",
       "    }\n",
       "</style>\n",
       "<table border=\"1\" class=\"dataframe\">\n",
       "  <thead>\n",
       "    <tr style=\"text-align: right;\">\n",
       "      <th></th>\n",
       "      <th>λmkt</th>\n",
       "      <th>λsmb</th>\n",
       "      <th>λhml</th>\n",
       "      <th>λLL</th>\n",
       "      <th>bmkt</th>\n",
       "      <th>bsmb</th>\n",
       "      <th>bhml</th>\n",
       "      <th>bll</th>\n",
       "    </tr>\n",
       "  </thead>\n",
       "  <tbody>\n",
       "    <tr>\n",
       "      <th>30 industries</th>\n",
       "      <td>0.56**</td>\n",
       "      <td>-0.21</td>\n",
       "      <td>-0.00</td>\n",
       "      <td>0.47**</td>\n",
       "      <td>0.04***</td>\n",
       "      <td>-0.04**</td>\n",
       "      <td>0.00</td>\n",
       "      <td>0.05***</td>\n",
       "    </tr>\n",
       "    <tr>\n",
       "      <th></th>\n",
       "      <td>(0.23)</td>\n",
       "      <td>(0.23)</td>\n",
       "      <td>(0.19)</td>\n",
       "      <td>(0.19)</td>\n",
       "      <td>(0.01)</td>\n",
       "      <td>(0.02)</td>\n",
       "      <td>(0.02)</td>\n",
       "      <td>(0.01)</td>\n",
       "    </tr>\n",
       "    <tr>\n",
       "      <th>38 industries</th>\n",
       "      <td>0.57**</td>\n",
       "      <td>-0.15</td>\n",
       "      <td>0.05</td>\n",
       "      <td>0.45**</td>\n",
       "      <td>0.04***</td>\n",
       "      <td>-0.03*</td>\n",
       "      <td>0.01</td>\n",
       "      <td>0.05***</td>\n",
       "    </tr>\n",
       "    <tr>\n",
       "      <th></th>\n",
       "      <td>(0.23)</td>\n",
       "      <td>(0.20)</td>\n",
       "      <td>(0.19)</td>\n",
       "      <td>(0.18)</td>\n",
       "      <td>(0.01)</td>\n",
       "      <td>(0.02)</td>\n",
       "      <td>(0.02)</td>\n",
       "      <td>(0.01)</td>\n",
       "    </tr>\n",
       "    <tr>\n",
       "      <th>49 industries</th>\n",
       "      <td>0.58**</td>\n",
       "      <td>-0.22</td>\n",
       "      <td>-0.04</td>\n",
       "      <td>0.51**</td>\n",
       "      <td>0.04***</td>\n",
       "      <td>-0.04***</td>\n",
       "      <td>-0.00</td>\n",
       "      <td>0.06***</td>\n",
       "    </tr>\n",
       "    <tr>\n",
       "      <th></th>\n",
       "      <td>(0.23)</td>\n",
       "      <td>(0.20)</td>\n",
       "      <td>(0.20)</td>\n",
       "      <td>(0.22)</td>\n",
       "      <td>(0.01)</td>\n",
       "      <td>(0.01)</td>\n",
       "      <td>(0.01)</td>\n",
       "      <td>(0.01)</td>\n",
       "    </tr>\n",
       "    <tr>\n",
       "      <th>BE/ME and Size (25)</th>\n",
       "      <td>0.44*</td>\n",
       "      <td>0.17</td>\n",
       "      <td>0.47***</td>\n",
       "      <td>0.39***</td>\n",
       "      <td>0.04***</td>\n",
       "      <td>0.02</td>\n",
       "      <td>0.07***</td>\n",
       "      <td>0.04***</td>\n",
       "    </tr>\n",
       "    <tr>\n",
       "      <th></th>\n",
       "      <td>(0.23)</td>\n",
       "      <td>(0.15)</td>\n",
       "      <td>(0.13)</td>\n",
       "      <td>(0.15)</td>\n",
       "      <td>(0.01)</td>\n",
       "      <td>(0.01)</td>\n",
       "      <td>(0.01)</td>\n",
       "      <td>(0.01)</td>\n",
       "    </tr>\n",
       "  </tbody>\n",
       "</table>\n",
       "</div>"
      ],
      "text/plain": [
       "                       λmkt    λsmb     λhml      λLL     bmkt      bsmb  \\\n",
       "30 industries        0.56**   -0.21    -0.00   0.47**  0.04***   -0.04**   \n",
       "                     (0.23)  (0.23)   (0.19)   (0.19)   (0.01)    (0.02)   \n",
       "38 industries        0.57**   -0.15     0.05   0.45**  0.04***    -0.03*   \n",
       "                     (0.23)  (0.20)   (0.19)   (0.18)   (0.01)    (0.02)   \n",
       "49 industries        0.58**   -0.22    -0.04   0.51**  0.04***  -0.04***   \n",
       "                     (0.23)  (0.20)   (0.20)   (0.22)   (0.01)    (0.01)   \n",
       "BE/ME and Size (25)   0.44*    0.17  0.47***  0.39***  0.04***      0.02   \n",
       "                     (0.23)  (0.15)   (0.13)   (0.15)   (0.01)    (0.01)   \n",
       "\n",
       "                        bhml      bll  \n",
       "30 industries           0.00  0.05***  \n",
       "                      (0.02)   (0.01)  \n",
       "38 industries           0.01  0.05***  \n",
       "                      (0.02)   (0.01)  \n",
       "49 industries          -0.00  0.06***  \n",
       "                      (0.01)   (0.01)  \n",
       "BE/ME and Size (25)  0.07***  0.04***  \n",
       "                      (0.01)   (0.01)  "
      ]
     },
     "execution_count": 27,
     "metadata": {},
     "output_type": "execute_result"
    }
   ],
   "source": [
    "pd.DataFrame([coef_ind30, se_ind30, coef_ind38, se_ind38, coef_ind49, se_ind49, coef_BM_ME_25, se_BM_ME_25],\n",
    "             index = ['30 industries', '', '38 industries', '', '49 industries', '', 'BE/ME and Size (25)', ''],\n",
    "             columns = ['λmkt', 'λsmb', 'λhml', 'λLL', 'bmkt', 'bsmb', 'bhml', 'bll'])"
   ]
  },
  {
   "cell_type": "code",
   "execution_count": null,
   "metadata": {},
   "outputs": [],
   "source": []
  }
 ],
 "metadata": {
  "kernelspec": {
   "display_name": "Python 3",
   "language": "python",
   "name": "python3"
  },
  "language_info": {
   "codemirror_mode": {
    "name": "ipython",
    "version": 3
   },
   "file_extension": ".py",
   "mimetype": "text/x-python",
   "name": "python",
   "nbconvert_exporter": "python",
   "pygments_lexer": "ipython3",
   "version": "3.7.3"
  }
 },
 "nbformat": 4,
 "nbformat_minor": 2
}
